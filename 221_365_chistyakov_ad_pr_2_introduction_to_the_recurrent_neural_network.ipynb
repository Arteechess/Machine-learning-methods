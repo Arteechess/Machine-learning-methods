{
  "nbformat": 4,
  "nbformat_minor": 0,
  "metadata": {
    "colab": {
      "provenance": [],
      "gpuType": "T4",
      "authorship_tag": "ABX9TyPEHYjDmAy0kZ+lVgwlFRVP",
      "include_colab_link": true
    },
    "kernelspec": {
      "name": "python3",
      "display_name": "Python 3"
    },
    "language_info": {
      "name": "python"
    },
    "accelerator": "GPU"
  },
  "cells": [
    {
      "cell_type": "markdown",
      "metadata": {
        "id": "view-in-github",
        "colab_type": "text"
      },
      "source": [
        "<a href=\"https://colab.research.google.com/github/Arteechess/Machine-learning-methods/blob/main/221_365_chistyakov_ad_pr_2_introduction_to_the_recurrent_neural_network.ipynb\" target=\"_parent\"><img src=\"https://colab.research.google.com/assets/colab-badge.svg\" alt=\"Open In Colab\"/></a>"
      ]
    },
    {
      "cell_type": "markdown",
      "source": [
        "Практическая работа №2.\n",
        "Знакомство с рекуррентной нейронной сетью\n",
        "\n",
        "ФИО: Чистяков Артем Дмитриевич\n",
        "\n",
        "Группа: 221-365"
      ],
      "metadata": {
        "id": "OndOkbF0uCfm"
      }
    },
    {
      "cell_type": "code",
      "source": [
        "# Проверяем версию TensorFlow и убеждаемся, что используем TensorFlow 2.x\n",
        "%tensorflow_version 2.x\n",
        "\n",
        "import tensorflow as tf\n",
        "\n",
        "# Проверяем, доступен ли GPU и выводим информацию о нем\n",
        "device_name = tf.test.gpu_device_name()\n",
        "\n",
        "if device_name == '':\n",
        "    print('No GPU found. Running on CPU.')\n",
        "else:\n",
        "    print('Found GPU at: {}'.format(device_name))"
      ],
      "metadata": {
        "colab": {
          "base_uri": "https://localhost:8080/"
        },
        "id": "vsddEAQBgA3-",
        "outputId": "922ae236-6d6a-40ae-b3d9-af49f8b5edca"
      },
      "execution_count": null,
      "outputs": [
        {
          "output_type": "stream",
          "name": "stdout",
          "text": [
            "Colab only includes TensorFlow 2.x; %tensorflow_version has no effect.\n",
            "Found GPU at: /device:GPU:0\n"
          ]
        }
      ]
    },
    {
      "cell_type": "code",
      "source": [
        "# Импортируем необходимые библиотеки\n",
        "from tensorflow.keras.datasets import imdb  # Используйте tensorflow.keras\n",
        "import numpy as np\n",
        "\n",
        "# Задаем параметры набора данных\n",
        "vocabulary_size = 5000  # Ограничиваем размер словаря наиболее часто встречающимися словами\n",
        "index_from = 3  # Сдвиг индексов, чтобы зарезервировать индексы для специальных токенов (PADDING, START, UNKNOWN)\n",
        "seed_value = 4 * 22 - 1  # Вычисляем значение seed, как указано в задании (87)\n",
        "\n",
        "# Загружаем набор данных IMDb\n",
        "(X_train, y_train), (X_test, y_test) = imdb.load_data(\n",
        "    path=\"imdb.npz\",  # Путь для сохранения/загрузки архива\n",
        "    num_words=vocabulary_size,  # Ограничиваем словарь\n",
        "    skip_top=0,  # Не пропускаем наиболее часто встречающиеся слова\n",
        "    maxlen=None,  # Не ограничиваем длину отзывов\n",
        "    seed=seed_value,  # Задаем seed для воспроизводимости результатов\n",
        "    start_char=1,  # Символ начала последовательности (отзыва)\n",
        "    oov_char=2,  # Символ для слов, отсутствующих в словаре\n",
        "    index_from=index_from,  # Сдвиг индексов\n",
        ")\n",
        "\n",
        "# Выводим размерности полученных массивов\n",
        "print(\"Размерность обучающих данных:\")\n",
        "print('Shape of X train:', X_train.shape)  # Shape of X train: (25000,)\n",
        "print('Shape of y train:', y_train.shape)  # Shape of y train: (25000,)\n",
        "\n",
        "print(\"\\nРазмерность тестовых данных:\")\n",
        "print('Shape of X test:', X_test.shape)  # Shape of X test: (25000,)\n",
        "print('Shape of y test:', y_test.shape)  # Shape of y test: (25000,)\n",
        "\n",
        "# Дополнительная информация:\n",
        "print(\"\\nПример отзыва (X_train[0]):\")\n",
        "print(X_train[0])  # Выводит список индексов слов\n",
        "\n",
        "print(\"\\nМетка для примера отзыва (y_train[0]):\")\n",
        "print(y_train[0])  # Выводит 0 (отрицательный) или 1 (положительный)\n"
      ],
      "metadata": {
        "colab": {
          "base_uri": "https://localhost:8080/"
        },
        "id": "0G9C0AvUgcgt",
        "outputId": "bc4f54d4-9d8c-44e0-d1c2-b1e5738b13dd"
      },
      "execution_count": null,
      "outputs": [
        {
          "output_type": "stream",
          "name": "stdout",
          "text": [
            "Downloading data from https://storage.googleapis.com/tensorflow/tf-keras-datasets/imdb.npz\n",
            "\u001b[1m17464789/17464789\u001b[0m \u001b[32m━━━━━━━━━━━━━━━━━━━━\u001b[0m\u001b[37m\u001b[0m \u001b[1m0s\u001b[0m 0us/step\n",
            "Размерность обучающих данных:\n",
            "Shape of X train: (25000,)\n",
            "Shape of y train: (25000,)\n",
            "\n",
            "Размерность тестовых данных:\n",
            "Shape of X test: (25000,)\n",
            "Shape of y test: (25000,)\n",
            "\n",
            "Пример отзыва (X_train[0]):\n",
            "[1, 134, 504, 2, 4, 1399, 3836, 9, 669, 2032, 18, 112, 2305, 18, 2, 3166, 5, 1576, 2, 803, 60, 53, 2, 9, 15, 3687, 309, 286, 60, 2305, 18, 118, 167, 2964, 8, 135, 4, 22, 1188, 1816, 53, 2, 74, 36, 71, 2, 10, 10, 4, 65, 3277, 4, 2, 5, 2, 7, 2, 2820, 2, 3750, 35, 2045, 298, 255, 2, 33, 86, 34, 41, 2, 336, 5, 95, 34, 41, 4595, 658, 4, 22, 2, 450, 153, 5, 2679, 1424, 23, 2, 1519, 19, 4, 372, 187, 41, 45, 579, 39, 6, 2, 668, 1971, 21, 25, 2, 1092, 15, 45, 6, 2, 2, 2, 10, 10, 4, 65, 9, 35, 221, 31, 2, 19, 1285, 33, 211, 261, 4, 1375, 1730, 3047, 26, 2, 49, 203, 24, 1144, 4, 653, 11, 1163, 949, 4, 598, 130, 21, 13, 161, 330, 60, 151, 729, 1500, 11, 6, 2911, 22, 62, 1329, 28, 72, 2660, 61, 523, 10, 10, 4, 22, 1990, 289, 735, 2, 18, 116, 2, 3750, 118, 524, 2, 2, 118, 696, 524, 5, 3962, 2, 118, 696, 524, 13, 104, 15, 3750, 5, 2, 71, 434, 2, 5, 1738, 3637, 16, 2, 2, 10, 10, 17, 460, 1046, 3687, 161, 3911, 6, 118, 167, 4372, 18, 27, 2048, 141, 35, 2, 2, 2607, 237, 2, 458, 133, 9, 350, 2501, 146, 24, 262, 932, 44, 2, 2, 603, 21, 45, 24, 1908, 856, 34, 101, 817, 10, 10, 11, 4, 130, 4, 65, 9, 6, 2349, 31, 73, 579, 34, 6, 1300, 22, 3011, 780, 39, 2, 4505, 1576, 819, 202, 12, 6, 353, 5, 490, 242, 30, 17, 2, 17, 13, 244, 44, 89, 12, 100, 30, 38, 862, 1899, 23, 735, 314]\n",
            "\n",
            "Метка для примера отзыва (y_train[0]):\n",
            "1\n"
          ]
        }
      ]
    },
    {
      "cell_type": "code",
      "source": [
        "from tensorflow.keras.datasets import imdb\n",
        "\n",
        "# Загружаем набор данных IMDb (с теми же параметрами, что и ранее)\n",
        "vocabulary_size = 5000\n",
        "index_from = 3\n",
        "seed_value = 4 * 22 - 1\n",
        "\n",
        "(X_train, y_train), (X_test, y_test) = imdb.load_data(\n",
        "    num_words=vocabulary_size,\n",
        "    seed=seed_value,\n",
        "    index_from=index_from\n",
        ")\n",
        "\n",
        "# Выбираем индекс отзыва для анализа\n",
        "review_index = 90\n",
        "\n",
        "# 1. Выводим один отзыв из обучающего множества в виде списка индексов слов\n",
        "print(f\"Отзыв {review_index} в виде списка индексов слов:\")\n",
        "print(X_train[review_index])\n",
        "\n",
        "# 2. Преобразуем список индексов в текст и выводим отзыв\n",
        "# Получаем словарь соответствия индекса слову\n",
        "word_to_index = imdb.get_word_index()\n",
        "\n",
        "# Сдвигаем индексы, чтобы учесть сдвиг index_from\n",
        "index_to_word = {index + index_from: word for (word, index) in word_to_index.items()}\n",
        "\n",
        "# Добавляем специальные токены в словарь\n",
        "index_to_word[0] = \"#PAD\"  # Padding (заполнитель)\n",
        "index_to_word[1] = \"#START\"  # Start (начало отзыва)\n",
        "index_to_word[2] = \"#OOV\"  # Out-of-vocabulary (неизвестное слово)\n",
        "index_to_word[3] = \"#UNK\"  # Unknown (не используется в данном примере, но обычно для неизвестных слов)\n",
        "\n",
        "# Преобразуем индексы в слова\n",
        "indexed_words = [index_to_word[i] for i in X_train[review_index]]\n",
        "\n",
        "# Соединяем слова в текст\n",
        "text_review = ' '.join(indexed_words)\n",
        "print(f\"\\nОтзыв {review_index} в виде текста:\")\n",
        "print(text_review)\n",
        "\n",
        "# 3. Выводим длину отзыва\n",
        "print(f\"\\nДлина отзыва {review_index}: {len(X_train[review_index])} слов\")\n",
        "\n",
        "# 4. Выводим метку класса данного отзыва и название класса\n",
        "review_label = y_train[review_index]\n",
        "\n",
        "# Определяем название класса на основе метки\n",
        "class_name = \"Положительный\" if review_label == 1 else \"Отрицательный\"\n",
        "\n",
        "print(f\"\\nМетка класса отзыва {review_index}: {review_label} ({class_name})\")\n"
      ],
      "metadata": {
        "colab": {
          "base_uri": "https://localhost:8080/"
        },
        "id": "tEe845WThT0m",
        "outputId": "d57d7270-f955-448b-9cd8-014a5780fbda"
      },
      "execution_count": null,
      "outputs": [
        {
          "output_type": "stream",
          "name": "stdout",
          "text": [
            "Отзыв 90 в виде списка индексов слов:\n",
            "[1, 225, 38, 111, 1566, 857, 44, 789, 245, 914, 11, 133, 13, 43, 191, 789, 1858, 101, 1207, 5, 387, 14, 2, 593, 1977, 6, 499, 25, 774, 557, 246, 10, 10, 3479, 2, 102, 26, 61, 2523, 1742, 18, 6, 606, 282, 36, 26, 404, 108, 18, 6, 1050, 2, 88, 13, 92, 28, 8, 104, 54, 13, 106, 98, 15, 817, 13, 92, 28, 8, 3250, 44, 1012, 6, 1315, 114, 88, 50, 115, 9, 6, 2261, 114, 8, 380, 19, 13, 70, 43, 1968, 125, 61, 3730, 4003, 6, 3640, 870, 145, 4416, 125, 61, 4081, 5, 358, 32, 4, 831, 2, 5, 4622, 776, 170, 741, 2, 1686, 3729, 39, 4, 2, 2068, 7, 98, 32, 10, 10, 11, 61, 1151, 789, 245, 914, 407, 734, 83, 4, 38, 78, 45, 52, 2385, 150, 48, 335, 40, 72, 5, 1144, 4, 1157, 1107, 14, 9, 4, 2095, 2, 1250, 585, 45, 38, 78, 15, 45, 220, 2, 8, 106, 5, 43, 54, 25, 104, 15, 12, 191, 869, 79, 101, 433, 12, 2459, 25, 11, 4, 91, 2, 771, 11, 4, 130, 335, 38, 2664, 34, 32, 4, 162, 2191, 7, 3002, 25, 43, 92, 124, 726, 8, 462, 42, 1415, 11, 6, 2, 13, 119, 12, 88, 45, 38, 1543, 1139, 15, 50, 280, 16, 6, 2248, 15, 165, 93, 108, 40, 14, 13, 131, 202, 12, 300, 46, 7, 158, 151, 280, 12, 1936, 4, 1324, 1245, 12, 80, 877, 35, 4181, 78, 20, 356]\n",
            "Downloading data from https://storage.googleapis.com/tensorflow/tf-keras-datasets/imdb_word_index.json\n",
            "\u001b[1m1641221/1641221\u001b[0m \u001b[32m━━━━━━━━━━━━━━━━━━━━\u001b[0m\u001b[37m\u001b[0m \u001b[1m0s\u001b[0m 0us/step\n",
            "\n",
            "Отзыв 90 в виде текста:\n",
            "#START there's so many negative reviews about stay away joe in here i just can't stay quiet any longer and let this #OOV happen here's a side you haven't heard yet br br elvis #OOV movies are my guilty pleasure for a simple reason they are perfect films for a pure #OOV because i don't have to think when i watch them that means i don't have to worry about missing a complex plot because there never is a proper plot to start with i can just kick off my shoes grab a beer sit back switch off my brains and enjoy all the general #OOV and catchy easy going rock #OOV roll tunes from the #OOV decade of them all br br in my books stay away joe definitely falls into the so bad it's good category now if you're like me and appreciate the trash value this is the ultimate #OOV camp experience it's so bad that it's almost #OOV to watch and just when you think that it can't possibly get any worse it surprises you in the most #OOV ways in the end you're so amazed by all the new levels of stupidity you just don't know whether to laugh or cry in a #OOV i love it because it's so damn amusing that there once was a generation that actually made films like this i still give it 1 out of 10 though once it hits the bottom 100 it will became an instant bad movie classic\n",
            "\n",
            "Длина отзыва 90: 252 слов\n",
            "\n",
            "Метка класса отзыва 90: 0 (Negative)\n"
          ]
        }
      ]
    }
  ]
}